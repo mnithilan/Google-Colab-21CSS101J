{
  "nbformat": 4,
  "nbformat_minor": 0,
  "metadata": {
    "colab": {
      "provenance": [],
      "authorship_tag": "ABX9TyPkwi2T4iiOaifky2oDGL5m",
      "include_colab_link": true
    },
    "kernelspec": {
      "name": "python3",
      "display_name": "Python 3"
    },
    "language_info": {
      "name": "python"
    }
  },
  "cells": [
    {
      "cell_type": "markdown",
      "metadata": {
        "id": "view-in-github",
        "colab_type": "text"
      },
      "source": [
        "<a href=\"https://colab.research.google.com/github/mnithilan/Google-Colab-21CSS101J/blob/main/RA2211042010013.ipynb\" target=\"_parent\"><img src=\"https://colab.research.google.com/assets/colab-badge.svg\" alt=\"Open In Colab\"/></a>"
      ]
    },
    {
      "cell_type": "markdown",
      "source": [
        "seconds in a day"
      ],
      "metadata": {
        "id": "LFDEVQHyOa8B"
      }
    },
    {
      "cell_type": "code",
      "execution_count": null,
      "metadata": {
        "colab": {
          "base_uri": "https://localhost:8080/"
        },
        "id": "-zoNVwYCKR29",
        "outputId": "acccd0d3-b44b-4467-9a0c-522653a63694"
      },
      "outputs": [
        {
          "output_type": "execute_result",
          "data": {
            "text/plain": [
              "86400"
            ]
          },
          "metadata": {},
          "execution_count": 1
        }
      ],
      "source": [
        "seconds_in_a_day = 24* 60 *60\n",
        "seconds_in_a_day"
      ]
    },
    {
      "cell_type": "markdown",
      "source": [],
      "metadata": {
        "id": "EQIo5PwiOgIR"
      }
    },
    {
      "cell_type": "markdown",
      "source": [
        "sum of two numbers by getting inp from user\n",
        "\n",
        "```\n",
        "# This is formatted as code\n",
        "```\n",
        "\n"
      ],
      "metadata": {
        "id": "nDpPUM7CPFbB"
      }
    },
    {
      "cell_type": "markdown",
      "source": [
        "hello world"
      ],
      "metadata": {
        "id": "JK9vUzQaOkt0"
      }
    },
    {
      "cell_type": "code",
      "source": [
        "print(\"hello world \\nmy name is mano\")"
      ],
      "metadata": {
        "colab": {
          "base_uri": "https://localhost:8080/"
        },
        "id": "5RRLmeWzNTBJ",
        "outputId": "8d6d37f8-a8eb-496d-fe49-32665b591961"
      },
      "execution_count": null,
      "outputs": [
        {
          "output_type": "stream",
          "name": "stdout",
          "text": [
            "hello world \n",
            "my name is mano\n"
          ]
        }
      ]
    },
    {
      "cell_type": "markdown",
      "source": [
        "sum of two numbers by getting values from user\n"
      ],
      "metadata": {
        "id": "7ruTJ5RhQRNb"
      }
    },
    {
      "cell_type": "code",
      "source": [
        "num1= int(input(\"enter first number\"))\n",
        "num2= int(input(\"enter second number\"))\n",
        "sum = num1 + num2\n",
        "print(sum)\n"
      ],
      "metadata": {
        "colab": {
          "base_uri": "https://localhost:8080/"
        },
        "id": "KFlQiRnAPIWO",
        "outputId": "677d69bd-1288-45d4-d67a-d4d2499698d0"
      },
      "execution_count": null,
      "outputs": [
        {
          "output_type": "stream",
          "name": "stdout",
          "text": [
            "enter first number23\n",
            "enter second number26\n",
            "49\n"
          ]
        }
      ]
    },
    {
      "cell_type": "markdown",
      "source": [
        "sum of two numbers"
      ],
      "metadata": {
        "id": "1_VrcCZHPOpg"
      }
    },
    {
      "cell_type": "code",
      "source": [
        "num1=5 \n",
        "num2=6\n",
        "sum = num1+num2\n",
        "print(sum)"
      ],
      "metadata": {
        "colab": {
          "base_uri": "https://localhost:8080/"
        },
        "id": "V4YdQTyjNp5x",
        "outputId": "88b6e693-e3e2-402c-9a8b-3f2c833b870f"
      },
      "execution_count": null,
      "outputs": [
        {
          "output_type": "stream",
          "name": "stdout",
          "text": [
            "11\n"
          ]
        }
      ]
    },
    {
      "cell_type": "code",
      "source": [],
      "metadata": {
        "id": "LbXwkeQ4QeXw"
      },
      "execution_count": null,
      "outputs": []
    },
    {
      "cell_type": "markdown",
      "source": [],
      "metadata": {
        "id": "H4townI9OODR"
      }
    },
    {
      "cell_type": "markdown",
      "source": [],
      "metadata": {
        "id": "rD21q6ONN6FC"
      }
    }
  ]
}